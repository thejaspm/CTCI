{
 "cells": [
  {
   "cell_type": "code",
   "execution_count": 2,
   "metadata": {
    "ExecuteTime": {
     "end_time": "2019-05-28T11:20:03.088917Z",
     "start_time": "2019-05-28T11:20:03.067403Z"
    }
   },
   "outputs": [],
   "source": [
    "%reload_ext autoreload\n",
    "%autoreload 2"
   ]
  },
  {
   "cell_type": "markdown",
   "metadata": {},
   "source": [
    "## Is unique test"
   ]
  },
  {
   "cell_type": "code",
   "execution_count": 7,
   "metadata": {
    "ExecuteTime": {
     "end_time": "2019-05-28T11:21:28.647054Z",
     "start_time": "2019-05-28T11:21:28.632314Z"
    }
   },
   "outputs": [],
   "source": [
    "from unique import is_unique"
   ]
  },
  {
   "cell_type": "code",
   "execution_count": 4,
   "metadata": {
    "ExecuteTime": {
     "end_time": "2019-05-28T11:20:41.872563Z",
     "start_time": "2019-05-28T11:20:41.856866Z"
    }
   },
   "outputs": [],
   "source": [
    "tests_pos = [\"singh\", \"thejas\", \"evran\"]\n",
    "test_neg = [\"kamal\", \"tejashree\", \"kakaka\"]"
   ]
  },
  {
   "cell_type": "code",
   "execution_count": 13,
   "metadata": {
    "ExecuteTime": {
     "end_time": "2019-05-28T11:24:40.651459Z",
     "start_time": "2019-05-28T11:24:40.635359Z"
    }
   },
   "outputs": [
    {
     "name": "stdout",
     "output_type": "stream",
     "text": [
      "char a is repeated\n",
      "char e is repeated\n",
      "char k is repeated\n"
     ]
    }
   ],
   "source": [
    "for pos in tests_pos:\n",
    "    assert(is_unique(pos))\n",
    "    \n",
    "for neg in test_neg:\n",
    "    assert(is_unique(neg) == False)"
   ]
  }
 ],
 "metadata": {
  "kernelspec": {
   "display_name": "Python 3",
   "language": "python",
   "name": "python3"
  },
  "language_info": {
   "codemirror_mode": {
    "name": "ipython",
    "version": 3
   },
   "file_extension": ".py",
   "mimetype": "text/x-python",
   "name": "python",
   "nbconvert_exporter": "python",
   "pygments_lexer": "ipython3",
   "version": "3.6.5"
  }
 },
 "nbformat": 4,
 "nbformat_minor": 2
}
